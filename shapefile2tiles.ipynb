{
 "cells": [
  {
   "cell_type": "code",
   "execution_count": 1,
   "id": "bbfc405e",
   "metadata": {},
   "outputs": [],
   "source": [
    "import shapefile\n",
    "import utm"
   ]
  },
  {
   "cell_type": "code",
   "execution_count": 16,
   "id": "fca76277",
   "metadata": {},
   "outputs": [],
   "source": [
    "def get_zone_conversion(latitude):\n",
    "    ''' helper function for convert_to_utm. Given a latitude value, it \n",
    "        returns an approximation for how the utm coordinates change as\n",
    "        the longitude crosses from UTM 17 to UTM 18.\n",
    "        Adjust londelta to get a more precise answer'''\n",
    "    londelta = .0000000001\n",
    "    lat = latitude\n",
    "    return utm.from_latlon(lat,-78 - londelta)[0] - utm.from_latlon(lat,-78 + londelta)[0]\n",
    "\n",
    "def latlon_to_utm(lat, lon):\n",
    "    new_coords = utm.from_latlon(lat,lon)\n",
    "        \n",
    "    # change the x coordinates if we are in zone 17\n",
    "    if new_coords[2] == 17:\n",
    "        return (new_coords[0] - get_zone_conversion(lat), new_coords[1])\n",
    "    # otherwise leave it alone\n",
    "    else:\n",
    "        return tuple(new_coords[:2])\n",
    "        \n",
    "def convert_to_utm(lonlat_coords):\n",
    "    ''' Convert a list of (lon, lat) coordinates to UTM. Assumes the order is \n",
    "        longitude, then latitude. This has been customized to work for New \n",
    "        York, so the input has to be in UTM zone 17 or 18. If it is\n",
    "        in 17, the coordinates are converted to be in terms of zone 18'''\n",
    "    utm_coords = []\n",
    "    for (lon, lat) in lonlat_coords:\n",
    "        utm_coords.append(latlon_to_utm(lat, lon))\n",
    "    return utm_coords"
   ]
  },
  {
   "cell_type": "code",
   "execution_count": 23,
   "id": "17722e45",
   "metadata": {},
   "outputs": [],
   "source": [
    "configuration_filename = \"config.txt\"\n",
    "origin_latlon = (41.99883715111737, -79.76162720445977)\n",
    "origin_utm_18 = latlon_to_utm(origin_latlon[0], origin_latlon[1])\n",
    "shapefile_name = \"../Shapefiles/SouthernOnondaga/Shape/roads\"\n",
    "tile_size = 10000 # meters"
   ]
  },
  {
   "cell_type": "code",
   "execution_count": 25,
   "id": "acc65cc8",
   "metadata": {},
   "outputs": [],
   "source": [
    "def latlon_to_tile_id(lat, lon):\n",
    "    (x, y) = latlon_to_utm(lat, lon)\n",
    "    x -= origin_utm_18[0]\n",
    "    y -= origin_utm_18[1]\n",
    "    i = x // tile_size\n",
    "    j = y // tile_size\n",
    "    return (i, j)"
   ]
  },
  {
   "cell_type": "code",
   "execution_count": 28,
   "id": "9c07410f",
   "metadata": {},
   "outputs": [
    {
     "name": "stdout",
     "output_type": "stream",
     "text": [
      "(52.0, 33.0)\n"
     ]
    }
   ],
   "source": [
    "print(latlon_to_tile_id(44.98726227282377, -73.37494146241328))"
   ]
  },
  {
   "cell_type": "code",
   "execution_count": null,
   "id": "7776d7ef",
   "metadata": {},
   "outputs": [],
   "source": []
  }
 ],
 "metadata": {
  "kernelspec": {
   "display_name": "Python 3",
   "language": "python",
   "name": "python3"
  },
  "language_info": {
   "codemirror_mode": {
    "name": "ipython",
    "version": 3
   },
   "file_extension": ".py",
   "mimetype": "text/x-python",
   "name": "python",
   "nbconvert_exporter": "python",
   "pygments_lexer": "ipython3",
   "version": "3.8.8"
  }
 },
 "nbformat": 4,
 "nbformat_minor": 5
}
