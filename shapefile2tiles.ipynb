{
 "cells": [
  {
   "cell_type": "code",
   "execution_count": 1,
   "id": "5aaa27be",
   "metadata": {},
   "outputs": [],
   "source": [
    "import shapefile\n",
    "import utm"
   ]
  },
  {
   "cell_type": "code",
   "execution_count": 16,
   "id": "f4851e5a",
   "metadata": {},
   "outputs": [],
   "source": [
    "def get_zone_conversion(latitude):\n",
    "    ''' helper function for convert_to_utm. Given a latitude value, it \n",
    "        returns an approximation for how the utm coordinates change as\n",
    "        the longitude crosses from UTM 17 to UTM 18.\n",
    "        Adjust londelta to get a more precise answer'''\n",
    "    londelta = .0000000001\n",
    "    lat = latitude\n",
    "    return utm.from_latlon(lat,-78 - londelta)[0] - utm.from_latlon(lat,-78 + londelta)[0]\n",
    "\n",
    "def latlon_to_utm(lat, lon):\n",
    "    new_coords = utm.from_latlon(lat,lon)\n",
    "        \n",
    "    # change the x coordinates if we are in zone 17\n",
    "    if new_coords[2] == 17:\n",
    "        return (new_coords[0] - get_zone_conversion(lat), new_coords[1])\n",
    "    # otherwise leave it alone\n",
    "    else:\n",
    "        return tuple(new_coords[:2])\n",
    "        \n",
    "def convert_to_utm(lonlat_coords):\n",
    "    ''' Convert a list of (lon, lat) coordinates to UTM. Assumes the order is \n",
    "        longitude, then latitude. This has been customized to work for New \n",
    "        York, so the input has to be in UTM zone 17 or 18. If it is\n",
    "        in 17, the coordinates are converted to be in terms of zone 18'''\n",
    "    utm_coords = []\n",
    "    for (lon, lat) in lonlat_coords:\n",
    "        utm_coords.append(latlon_to_utm(lat, lon))\n",
    "    return utm_coords"
   ]
  },
  {
   "cell_type": "code",
   "execution_count": 23,
   "id": "1c037075",
   "metadata": {},
   "outputs": [],
   "source": [
    "configuration_filename = \"config.txt\"\n",
    "origin_latlon = (41.99883715111737, -79.76162720445977)\n",
    "origin_utm_18 = latlon_to_utm(origin_latlon[0], origin_latlon[1])\n",
    "shapefile_name = \"../Shapefiles/SouthernOnondaga/Shape/roads\"\n",
    "tile_size = 10000 # meters"
   ]
  },
  {
   "cell_type": "code",
   "execution_count": 25,
   "id": "64b46623",
   "metadata": {},
   "outputs": [],
   "source": [
    "def latlon_to_tile_id(lat, lon):\n",
    "    (x, y) = latlon_to_utm(lat, lon)\n",
    "    x -= origin_utm_18[0]\n",
    "    y -= origin_utm_18[1]\n",
    "    i = x // tile_size\n",
    "    j = y // tile_size\n",
    "    return (i, j)"
   ]
  },
  {
   "cell_type": "code",
   "execution_count": 28,
   "id": "9667d8f9",
   "metadata": {},
   "outputs": [
    {
     "name": "stdout",
     "output_type": "stream",
     "text": [
      "(52.0, 33.0)\n"
     ]
    }
   ],
   "source": [
    "print(latlon_to_tile_id(44.98726227282377, -73.37494146241328))"
   ]
  },
  {
   "cell_type": "code",
   "execution_count": 29,
   "id": "6250307a",
   "metadata": {},
   "outputs": [],
   "source": [
    "def get_tile_bounds(i, j):\n",
    "    min_x = i * tile_size\n",
    "    max_x = (i + 1) * tile_size\n",
    "    min_y = j * tile_size\n",
    "    max_y = (j + 1) * tile_size\n",
    "    return ((min_x, min_y), (max_x, max_y))\n",
    "\n",
    "def get_slope(x1, y1, x2, y2):\n",
    "    if x1 == x2:\n",
    "        raise ValueError(\"Trying to compute slope of vertical segment %f %f %f %f\" % (x1, y1, x2, y2))\n",
    "    else:\n",
    "        return (y2 - y1) / (x2 - x1)\n",
    "    \n",
    "def get_y_int(x1, y1, slope):\n",
    "    return y1 - (x1 * slope)\n",
    "\n",
    "def get_line_equation(x1, y1, x2, y2):\n",
    "    slope = get_slope(x1, y1, x2, y2)\n",
    "    y_int = get_y_int(x1, y1, slope)\n",
    "    return (slope, y_int)\n",
    "\n",
    "def cut_to_tile(i, j, x1, y1, x2, y2):\n",
    "    \"\"\"\n",
    "    Return the segment resulting from intersecting the boundaries of tile i, j with\n",
    "    the segment defined by (x1, y1), (x2, y2). Return [] if there is no intersection.\n",
    "    \"\"\"\n",
    "    # These are the tile bounds\n",
    "    ((min_x, min_y), (max_x, max_y)) = get_tile_bounds(i, j)\n",
    "    \n",
    "    # Check for no intersection\n",
    "    if (y1 > max_y and y2 > max_y) or (y1 < min_y and y2 < min_y) or (x1 < min_x and x2 < min_x) or (x1 > max_x and x2 > max_x):\n",
    "        return []\n",
    "    # Moving forward, we know the segment does intersect the tile\n",
    "    \n",
    "    # Do the vertical line case first\n",
    "    if x1 == x2:\n",
    "        road_min = min(y1, y2)\n",
    "        road_max = max(y1, y2)\n",
    "        cut_min = max(road_min, min_y)\n",
    "        cut_max = min(road_max, max_y)\n",
    "        return ( (x1, cut_min), (x1, cut_max) )\n",
    "    # Horizontal line is easy, too\n",
    "    elif y1 == y2:\n",
    "        road_min = min(x1, x2)\n",
    "        road_max = max(x1, x2)\n",
    "        cut_min = max(road_min, min_x)\n",
    "        cut_max = min(road_max, max_x)\n",
    "        return ( (cut_min, y1), (cut_max, y2) )\n",
    "    # Diagonal line: more fun\n",
    "    else:\n",
    "        cut_segment = []\n",
    "        slope, y_int = get_line_equation(x1, y1, x2, y2)\n",
    "        \n",
    "        # Check the south boundary\n",
    "        x_of_intersection = (min_y - y_int) / slope\n",
    "        if x_of_intersection >= min_x and x_of_intersection <= max_x:\n",
    "            cut_segment.append( (x_of_intersection, min_y) )\n",
    "        \n",
    "        # Check the north boundary\n",
    "        x_of_intersection = (max_y - y_int) / slope\n",
    "        if x_of_intersection >= min_x and x_of_intersection <= max_x:\n",
    "            cut_segment.append( (x_of_intersection, max_y) )\n",
    "        \n",
    "        # Check the west boundary\n",
    "        y_of_intersection = slope * min_x + y_int\n",
    "        if y_of_intersection >= min_y and y_of_intersection <= max_y:\n",
    "            cut_segment.append( (min_x, y_of_intersection) )\n",
    "        \n",
    "        # Check the east boundary\n",
    "        y_of_intersection = slope * max_x + y_int\n",
    "        if y_of_intersection >= min_y and y_of_intersection <= max_y:\n",
    "            cut_segment.append( (max_x, y_of_intersection) )\n",
    "        \n",
    "        # Check for interior points\n",
    "        if (x1 > min_x and x1 < max_x) and (y1 > min_y and y1 < max_y):\n",
    "            cut_segment.append( (x1, y1) )\n",
    "        if (x2 > min_x and x2 < max_x) and (y2 > min_y and y2 < max_y):\n",
    "            cut_segment.append( (x2, y2) )\n",
    "        \n",
    "        # Finally, check if something went wrong\n",
    "        if len(cut_segment) != 2:\n",
    "            raise Error(\"cut_segment contains %d points instead of 2\" % len(cut_segment))\n",
    "        \n",
    "        return cut_segment"
   ]
  },
  {
   "cell_type": "code",
   "execution_count": null,
   "id": "4f366173",
   "metadata": {},
   "outputs": [],
   "source": []
  }
 ],
 "metadata": {
  "kernelspec": {
   "display_name": "Python 3",
   "language": "python",
   "name": "python3"
  },
  "language_info": {
   "codemirror_mode": {
    "name": "ipython",
    "version": 3
   },
   "file_extension": ".py",
   "mimetype": "text/x-python",
   "name": "python",
   "nbconvert_exporter": "python",
   "pygments_lexer": "ipython3",
   "version": "3.8.8"
  }
 },
 "nbformat": 4,
 "nbformat_minor": 5
}
